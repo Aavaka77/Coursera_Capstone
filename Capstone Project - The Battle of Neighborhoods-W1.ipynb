{
    "cells": [
        {
            "cell_type": "markdown",
            "metadata": {},
            "source": "# Capstone Project - The Battle of the Neighborhoods (Week 2)"
        },
        {
            "cell_type": "markdown",
            "metadata": {},
            "source": "## Applied Data Science Capstone by IBM/Coursera"
        },
        {
            "cell_type": "markdown",
            "metadata": {},
            "source": "## Table of contents"
        },
        {
            "cell_type": "markdown",
            "metadata": {},
            "source": " - Introduction: Business Problem"
        },
        {
            "cell_type": "markdown",
            "metadata": {},
            "source": " - Data"
        },
        {
            "cell_type": "markdown",
            "metadata": {},
            "source": " - Methodology"
        },
        {
            "cell_type": "markdown",
            "metadata": {},
            "source": " - Analysis"
        },
        {
            "cell_type": "markdown",
            "metadata": {},
            "source": " - Results and Discussion"
        },
        {
            "cell_type": "markdown",
            "metadata": {},
            "source": " - Conclusion"
        },
        {
            "cell_type": "markdown",
            "metadata": {},
            "source": "<br>"
        },
        {
            "cell_type": "markdown",
            "metadata": {},
            "source": "## Introduction: Business Problem"
        },
        {
            "cell_type": "markdown",
            "metadata": {},
            "source": "In this project we will try to find the best apartment for rent due to a job offer. This project is targeted to everyone that might be interested to know more about rent prices of apartments, statistics of the neighborhoods or just want to move to S\u00e3o Paulo, Brazil."
        },
        {
            "cell_type": "markdown",
            "metadata": {},
            "source": "Since our job offer it is for a specific address, we have selected a few close neighborhoods to live in. Although we have selected these neighborhoods, still there are a lot of apartments for rent. We have a few exigences regarding the nearby venues, and that will be taken into account to choose our home."
        },
        {
            "cell_type": "markdown",
            "metadata": {},
            "source": "We will use our techniques in data science to generate the most promissing apartments for us to live in. Economic data and social characteristics of the neighborhoods will be considered in the proccess."
        },
        {
            "cell_type": "markdown",
            "metadata": {},
            "source": "<br>"
        },
        {
            "cell_type": "markdown",
            "metadata": {},
            "source": "## Data"
        },
        {
            "cell_type": "markdown",
            "metadata": {},
            "source": "Based on definition of our problem, factors that will influence our decision are:"
        },
        {
            "cell_type": "markdown",
            "metadata": {},
            "source": " - the apartment must have at least 2 bedrooms\n - the monthly value of the rent cannot exceed Dollars 1.700,00\n - it has to be at least 5km from workplace\n - it has to be near at least 1km from a gym and a market\n - social and economic characteristics of the neighborhod based on the available data"
        },
        {
            "cell_type": "markdown",
            "metadata": {},
            "source": "We decided to select a few neighborhoods around our workplace to extract our data."
        },
        {
            "cell_type": "markdown",
            "metadata": {},
            "source": "Following data sources will be needed to extract/generate the required information:"
        },
        {
            "cell_type": "markdown",
            "metadata": {},
            "source": " - coordinate of workplace will be obtained using geocoder\n - economical and location data of rental properties around the workplace will be obtained through webscraping of a major online portal.\n - nearby venues around each neighborhood will be obtained using Foursquare API"
        },
        {
            "cell_type": "markdown",
            "metadata": {},
            "source": "<br>"
        },
        {
            "cell_type": "markdown",
            "metadata": {},
            "source": "## Let's load our libraries and our apartments data"
        }
    ],
    "metadata": {
        "kernelspec": {
            "display_name": "Python 3.7",
            "language": "python",
            "name": "python3"
        },
        "language_info": {
            "codemirror_mode": {
                "name": "ipython",
                "version": 3
            },
            "file_extension": ".py",
            "mimetype": "text/x-python",
            "name": "python",
            "nbconvert_exporter": "python",
            "pygments_lexer": "ipython3",
            "version": "3.7.10"
        }
    },
    "nbformat": 4,
    "nbformat_minor": 1
}