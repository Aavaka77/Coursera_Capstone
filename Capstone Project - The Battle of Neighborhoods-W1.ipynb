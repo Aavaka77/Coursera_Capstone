{
    "cells": [
        {
            "cell_type": "markdown",
            "metadata": {},
            "source": "# Capstone Project - The Battle of the Neighborhoods (Week 2)"
        },
        {
            "cell_type": "markdown",
            "metadata": {},
            "source": "## Applied Data Science Capstone by IBM/Coursera"
        },
        {
            "cell_type": "markdown",
            "metadata": {},
            "source": "## Table of contents"
        },
        {
            "cell_type": "markdown",
            "metadata": {},
            "source": " - Introduction: Business Problem"
        },
        {
            "cell_type": "markdown",
            "metadata": {},
            "source": " - Data"
        },
        {
            "cell_type": "markdown",
            "metadata": {},
            "source": " - Methodology"
        },
        {
            "cell_type": "markdown",
            "metadata": {},
            "source": " - Analysis"
        },
        {
            "cell_type": "markdown",
            "metadata": {},
            "source": " - Results and Discussion"
        },
        {
            "cell_type": "markdown",
            "metadata": {},
            "source": " - Conclusion"
        },
        {
            "cell_type": "markdown",
            "metadata": {},
            "source": "<br>"
        },
        {
            "cell_type": "markdown",
            "metadata": {},
            "source": "## Introduction: Business Problem"
        },
        {
            "cell_type": "markdown",
            "metadata": {},
            "source": "In this project we will try to find the best apartment for rent due to a job offer. This project is targeted to everyone that might be interested to know more about rent prices of apartments, statistics of the neighborhoods or just want to move to S\u00e3o Paulo, Brazil."
        },
        {
            "cell_type": "markdown",
            "metadata": {},
            "source": "Since our job offer it is for a specific address, we have selected a few close neighborhoods to live in. Although we have selected these neighborhoods, still there are a lot of apartments for rent. We have a few exigences regarding the nearby venues, and that will be taken into account to choose our home."
        },
        {
            "cell_type": "markdown",
            "metadata": {},
            "source": "We will use our techniques in data science to generate the most promissing apartments for us to live in. Economic data and social characteristics of the neighborhoods will be considered in the proccess."
        },
        {
            "cell_type": "markdown",
            "metadata": {},
            "source": "<br>"
        },
        {
            "cell_type": "markdown",
            "metadata": {},
            "source": "## Data"
        },
        {
            "cell_type": "markdown",
            "metadata": {},
            "source": "Based on definition of our problem, factors that will influence our decision are:"
        },
        {
            "cell_type": "markdown",
            "metadata": {},
            "source": " - the apartment must have at least 2 bedrooms\n - the monthly value of the rent cannot exceed Dollars 1.700,00\n - it has to be at least 5km from workplace\n - it has to be near at least 1km from a gym and a market\n - social and economic characteristics of the neighborhod based on the available data"
        },
        {
            "cell_type": "markdown",
            "metadata": {},
            "source": "We decided to select a few neighborhoods around our workplace to extract our data."
        },
        {
            "cell_type": "markdown",
            "metadata": {},
            "source": "Following data sources will be needed to extract/generate the required information:"
        },
        {
            "cell_type": "markdown",
            "metadata": {},
            "source": " - coordinate of workplace will be obtained using geocoder\n - economical and location data of rental properties around the workplace will be obtained through webscraping of a major online portal.\n - nearby venues around each neighborhood will be obtained using Foursquare API"
        },
        {
            "cell_type": "markdown",
            "metadata": {},
            "source": "<br>"
        },
        {
            "cell_type": "markdown",
            "metadata": {},
            "source": "## Let's load our libraries and our apartments data"
        },
        {
            "cell_type": "code",
            "execution_count": 25,
            "metadata": {},
            "outputs": [
                {
                    "name": "stdout",
                    "output_type": "stream",
                    "text": "/opt/conda/envs/Python-3.7-OpenCE/lib/python3.7/site-packages/secretstorage/dhcrypto.py:16: CryptographyDeprecationWarning: int_from_bytes is deprecated, use int.from_bytes instead\n  from cryptography.utils import int_from_bytes\n/opt/conda/envs/Python-3.7-OpenCE/lib/python3.7/site-packages/secretstorage/util.py:25: CryptographyDeprecationWarning: int_from_bytes is deprecated, use int.from_bytes instead\n  from cryptography.utils import int_from_bytes\nRequirement already satisfied: folium in /opt/conda/envs/Python-3.7-OpenCE/lib/python3.7/site-packages (0.12.1)\nRequirement already satisfied: jinja2>=2.9 in /opt/conda/envs/Python-3.7-OpenCE/lib/python3.7/site-packages (from folium) (2.11.3)\nRequirement already satisfied: requests in /opt/conda/envs/Python-3.7-OpenCE/lib/python3.7/site-packages (from folium) (2.22.0)\nRequirement already satisfied: branca>=0.3.0 in /opt/conda/envs/Python-3.7-OpenCE/lib/python3.7/site-packages (from folium) (0.4.2)\nRequirement already satisfied: numpy in /opt/conda/envs/Python-3.7-OpenCE/lib/python3.7/site-packages (from folium) (1.19.2)\nRequirement already satisfied: MarkupSafe>=0.23 in /opt/conda/envs/Python-3.7-OpenCE/lib/python3.7/site-packages (from jinja2>=2.9->folium) (1.1.1)\nRequirement already satisfied: chardet<3.1.0,>=3.0.2 in /opt/conda/envs/Python-3.7-OpenCE/lib/python3.7/site-packages (from requests->folium) (3.0.4)\nRequirement already satisfied: idna<2.9,>=2.5 in /opt/conda/envs/Python-3.7-OpenCE/lib/python3.7/site-packages (from requests->folium) (2.8)\nRequirement already satisfied: urllib3!=1.25.0,!=1.25.1,<1.26,>=1.21.1 in /opt/conda/envs/Python-3.7-OpenCE/lib/python3.7/site-packages (from requests->folium) (1.25.9)\nRequirement already satisfied: certifi>=2017.4.17 in /opt/conda/envs/Python-3.7-OpenCE/lib/python3.7/site-packages (from requests->folium) (2021.5.30)\n/opt/conda/envs/Python-3.7-OpenCE/lib/python3.7/site-packages/secretstorage/dhcrypto.py:16: CryptographyDeprecationWarning: int_from_bytes is deprecated, use int.from_bytes instead\n  from cryptography.utils import int_from_bytes\n/opt/conda/envs/Python-3.7-OpenCE/lib/python3.7/site-packages/secretstorage/util.py:25: CryptographyDeprecationWarning: int_from_bytes is deprecated, use int.from_bytes instead\n  from cryptography.utils import int_from_bytes\nRequirement already satisfied: geocoder in /opt/conda/envs/Python-3.7-OpenCE/lib/python3.7/site-packages (1.38.1)\nRequirement already satisfied: ratelim in /opt/conda/envs/Python-3.7-OpenCE/lib/python3.7/site-packages (from geocoder) (0.1.6)\nRequirement already satisfied: six in /opt/conda/envs/Python-3.7-OpenCE/lib/python3.7/site-packages (from geocoder) (1.15.0)\nRequirement already satisfied: future in /opt/conda/envs/Python-3.7-OpenCE/lib/python3.7/site-packages (from geocoder) (0.18.2)\nRequirement already satisfied: click in /opt/conda/envs/Python-3.7-OpenCE/lib/python3.7/site-packages (from geocoder) (7.0)\nRequirement already satisfied: requests in /opt/conda/envs/Python-3.7-OpenCE/lib/python3.7/site-packages (from geocoder) (2.22.0)\nRequirement already satisfied: decorator in /opt/conda/envs/Python-3.7-OpenCE/lib/python3.7/site-packages (from ratelim->geocoder) (4.4.2)\nRequirement already satisfied: certifi>=2017.4.17 in /opt/conda/envs/Python-3.7-OpenCE/lib/python3.7/site-packages (from requests->geocoder) (2021.5.30)\nRequirement already satisfied: idna<2.9,>=2.5 in /opt/conda/envs/Python-3.7-OpenCE/lib/python3.7/site-packages (from requests->geocoder) (2.8)\nRequirement already satisfied: chardet<3.1.0,>=3.0.2 in /opt/conda/envs/Python-3.7-OpenCE/lib/python3.7/site-packages (from requests->geocoder) (3.0.4)\nRequirement already satisfied: urllib3!=1.25.0,!=1.25.1,<1.26,>=1.21.1 in /opt/conda/envs/Python-3.7-OpenCE/lib/python3.7/site-packages (from requests->geocoder) (1.25.9)\n/opt/conda/envs/Python-3.7-OpenCE/lib/python3.7/site-packages/secretstorage/dhcrypto.py:16: CryptographyDeprecationWarning: int_from_bytes is deprecated, use int.from_bytes instead\n  from cryptography.utils import int_from_bytes\n/opt/conda/envs/Python-3.7-OpenCE/lib/python3.7/site-packages/secretstorage/util.py:25: CryptographyDeprecationWarning: int_from_bytes is deprecated, use int.from_bytes instead\n  from cryptography.utils import int_from_bytes\n\u001b[31mERROR: Could not find a version that satisfies the requirement haversineimport (from versions: none)\u001b[0m\n\u001b[31mERROR: No matching distribution found for haversineimport\u001b[0m\n"
                }
            ],
            "source": "!pip install folium\n!pip install geocoder\n!pip install haversineimport pandas as pd\nimport numpy as np\nimport json\nimport requests\nfrom haversine import haversine\nimport geocoder\nimport requests\nimport folium\nfrom sklearn.cluster import KMeans"
        },
        {
            "cell_type": "code",
            "execution_count": 24,
            "metadata": {},
            "outputs": [],
            "source": "# Before we start, let's just define out basic factors.\nstarting_point = 'Rua Girassol, 555, Vila Madalena, S\u00e3o Paulo/SP'\nmax_rent_value = 1700\nmin_bedrooms = 2\nmin_dist_workplace = 5\nmin_dist_gym = 1\nmin_dist_mkt = 1"
        },
        {
            "cell_type": "code",
            "execution_count": null,
            "metadata": {},
            "outputs": [],
            "source": "dataset = pd.read_csv('rent_properties_data.csv')"
        },
        {
            "cell_type": "code",
            "execution_count": null,
            "metadata": {},
            "outputs": [],
            "source": "dataset.shape"
        },
        {
            "cell_type": "markdown",
            "metadata": {},
            "source": "Let's just reassure that all of the properties are apartments."
        },
        {
            "cell_type": "code",
            "execution_count": null,
            "metadata": {},
            "outputs": [],
            "source": "dataset['type'].value_counts()"
        },
        {
            "cell_type": "code",
            "execution_count": null,
            "metadata": {},
            "outputs": [],
            "source": "dataset.drop(columns=['type'], inplace=True)"
        },
        {
            "cell_type": "markdown",
            "metadata": {},
            "source": "Now, let's get our workplace coordinates in order to get the nearby venues."
        },
        {
            "cell_type": "code",
            "execution_count": null,
            "metadata": {},
            "outputs": [],
            "source": "work_location = geocoder.arcgis(starting_point).latlng"
        },
        {
            "cell_type": "code",
            "execution_count": null,
            "metadata": {},
            "outputs": [],
            "source": "work_location"
        },
        {
            "cell_type": "code",
            "execution_count": null,
            "metadata": {},
            "outputs": [],
            "source": "dataset.head()"
        },
        {
            "cell_type": "code",
            "execution_count": null,
            "metadata": {},
            "outputs": [],
            "source": "dataset = dataset.loc[(dataset['latitude'] != '-') & (dataset['longitude'] != '-')]"
        },
        {
            "cell_type": "code",
            "execution_count": null,
            "metadata": {},
            "outputs": [],
            "source": "dataset.shape"
        },
        {
            "cell_type": "markdown",
            "metadata": {},
            "source": "Now we have to measure the distance between each apartment to our workplace. First, let's create a function to merge latitude and longitude in a single row."
        },
        {
            "cell_type": "code",
            "execution_count": null,
            "metadata": {},
            "outputs": [],
            "source": "def get_location(dataframe, name_latitude, name_longitude):\n    df = dataframe.copy()\n    df['location'] = df[name_latitude].astype(str) + ',' + df[name_longitude].astype(str)\n    df['location'] = df['location'].apply(lambda x: x.split(','))\n    df['location'] = df['location'].apply(lambda x: [float(i) for i in x])\n    return df"
        },
        {
            "cell_type": "code",
            "execution_count": null,
            "metadata": {},
            "outputs": [],
            "source": "dataset = get_location(dataset, name_latitude='latitude', name_longitude='longitude')"
        },
        {
            "cell_type": "code",
            "execution_count": null,
            "metadata": {},
            "outputs": [],
            "source": "dataset.head()"
        },
        {
            "cell_type": "code",
            "execution_count": null,
            "metadata": {},
            "outputs": [],
            "source": "dataset['distance_from_workplace'] = dataset['location'].apply(lambda x: haversine(work_location, x))"
        },
        {
            "cell_type": "code",
            "execution_count": null,
            "metadata": {},
            "outputs": [],
            "source": "dataset.head()"
        }
    ],
    "metadata": {
        "kernelspec": {
            "display_name": "Python 3.7",
            "language": "python",
            "name": "python3"
        },
        "language_info": {
            "codemirror_mode": {
                "name": "ipython",
                "version": 3
            },
            "file_extension": ".py",
            "mimetype": "text/x-python",
            "name": "python",
            "nbconvert_exporter": "python",
            "pygments_lexer": "ipython3",
            "version": "3.7.10"
        }
    },
    "nbformat": 4,
    "nbformat_minor": 1
}